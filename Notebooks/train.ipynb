{
 "cells": [
  {
   "cell_type": "code",
   "execution_count": 7,
   "metadata": {},
   "outputs": [],
   "source": [
    "import pandas as pd\n",
    "import numpy as np\n",
    "\n",
    "import seaborn as sns\n",
    "import matplotlib.pyplot as plt\n",
    "\n",
    "from imblearn.over_sampling import SMOTE\n",
    "\n",
    "from sklearn.model_selection import train_test_split\n",
    "\n",
    "from sklearn.metrics import confusion_matrix, accuracy_score, precision_score, recall_score, f1_score, roc_auc_score\n",
    "from sklearn.metrics import make_scorer\n",
    "\n",
    "from sklearn.preprocessing import StandardScaler\n",
    "from sklearn.model_selection import GridSearchCV\n",
    "from sklearn.pipeline import make_pipeline\n",
    "from sklearn import ensemble, model_selection\n",
    "\n",
    "from sklearn.pipeline import Pipeline\n",
    "from sklearn import linear_model\n",
    "from sklearn.neighbors import KNeighborsClassifier\n",
    "from sklearn.svm import SVC\n",
    "from sklearn.svm import LinearSVC\n",
    "from sklearn.ensemble import GradientBoostingClassifier\n",
    "from sklearn.tree import DecisionTreeClassifier\n",
    "from xgboost import  XGBClassifier\n",
    "\n",
    "import pickle"
   ]
  },
  {
   "cell_type": "code",
   "execution_count": 8,
   "metadata": {},
   "outputs": [],
   "source": [
    "churn = pd.read_csv('C:\\\\Users\\\\lopez\\\\OneDrive\\\\Escritorio\\\\BOOTCAMP_DS\\\\ALUMNO\\\\3-Machine_Learning\\\\Entregas\\\\entrega ML\\\\churn\\\\ENTREGABLE\\\\Data\\\\Data_procesed\\\\train.procesed.csv')"
   ]
  },
  {
   "cell_type": "code",
   "execution_count": 9,
   "metadata": {},
   "outputs": [
    {
     "name": "stderr",
     "output_type": "stream",
     "text": [
      "C:\\Users\\lopez\\AppData\\Local\\Programs\\Python\\Python37\\lib\\site-packages\\ipykernel_launcher.py:2: FutureWarning: In a future version of pandas all arguments of DataFrame.drop except for the argument 'labels' will be keyword-only\n",
      "  \n"
     ]
    }
   ],
   "source": [
    "#Dividimos el dataset de train\n",
    "X = churn.drop(['Exited'],1)\n",
    "y = churn['Exited']\n",
    "\n",
    "\n",
    "#Hacemos Smooting para balancear los datos\n",
    "smoting = SMOTE(sampling_strategy='auto', random_state=42, k_neighbors= 10)\n",
    "X, y = smoting.fit_resample(X, y)"
   ]
  },
  {
   "cell_type": "code",
   "execution_count": 10,
   "metadata": {},
   "outputs": [],
   "source": [
    "#Prodesamos las X del modelo de entrenamiento\n",
    "X_train_scaled = StandardScaler().fit_transform(X.values)\n"
   ]
  },
  {
   "cell_type": "code",
   "execution_count": 11,
   "metadata": {},
   "outputs": [
    {
     "name": "stderr",
     "output_type": "stream",
     "text": [
      "C:\\Users\\lopez\\AppData\\Local\\Programs\\Python\\Python37\\lib\\site-packages\\ipykernel_launcher.py:5: FutureWarning: In a future version of pandas all arguments of DataFrame.drop except for the argument 'labels' will be keyword-only\n",
      "  \"\"\"\n"
     ]
    }
   ],
   "source": [
    "#Importamos dataset test\n",
    "test = pd.read_csv('C:\\\\Users\\\\lopez\\\\OneDrive\\\\Escritorio\\\\BOOTCAMP_DS\\\\ALUMNO\\\\3-Machine_Learning\\\\Entregas\\\\entrega ML\\\\churn\\\\ENTREGABLE\\\\Data/Data_procesed/test.procesed.csv')\n",
    "\n",
    "#Dividimos el dataset de test\n",
    "X_test = test.drop(['Exited'],1)\n",
    "y_test = test['Exited']\n",
    "\n",
    "#Escalamos los datos también en test\n",
    "X_test_scaled = StandardScaler().fit_transform(X_test.values)"
   ]
  },
  {
   "cell_type": "markdown",
   "metadata": {},
   "source": [
    "#### MEJORES MODELOS EN FUNCION DE LOS OBJETIVOS"
   ]
  },
  {
   "cell_type": "code",
   "execution_count": 12,
   "metadata": {},
   "outputs": [
    {
     "data": {
      "text/plain": [
       "SVC(kernel='poly')"
      ]
     },
     "execution_count": 12,
     "metadata": {},
     "output_type": "execute_result"
    }
   ],
   "source": [
    "#SVC lógico sin errar muchos ceros.\n",
    "\n",
    "svc1 = SVC(kernel='poly', degree =3)\n",
    "\n",
    "svc1.fit(X_train_scaled,y)"
   ]
  },
  {
   "cell_type": "code",
   "execution_count": 13,
   "metadata": {},
   "outputs": [
    {
     "name": "stdout",
     "output_type": "stream",
     "text": [
      "Recall score :  0.7828282828282829\n",
      "Precision score :  0.636\n"
     ]
    },
    {
     "data": {
      "text/plain": [
       "<AxesSubplot:>"
      ]
     },
     "execution_count": 13,
     "metadata": {},
     "output_type": "execute_result"
    },
    {
     "data": {
      "image/png": "[encoded data removed]",
      "text/plain": [
       "<Figure size 432x288 with 2 Axes>"
      ]
     },
     "metadata": {
      "needs_background": "light"
     },
     "output_type": "display_data"
    }
   ],
   "source": [
    "svc1_pred = svc1.predict(X_test_scaled)\n",
    "print('Recall score : ' , recall_score(y_test,svc1_pred))\n",
    "print('Precision score : ' , accuracy_score(y_test,svc1_pred))\n",
    "sns.heatmap(confusion_matrix(svc1_pred,y_test), annot = True, linewidths=.5, fmt='g', annot_kws = {'size':15},cmap='Blues')"
   ]
  },
  {
   "cell_type": "code",
   "execution_count": 14,
   "metadata": {},
   "outputs": [
    {
     "data": {
      "text/plain": [
       "SVC(degree=19, kernel='poly')"
      ]
     },
     "execution_count": 14,
     "metadata": {},
     "output_type": "execute_result"
    }
   ],
   "source": [
    "#SVC que maximiza la detencion de unos.\n",
    "\n",
    "svc2 = SVC(kernel='poly', degree =19)\n",
    "\n",
    "svc2.fit(X_train_scaled,y)"
   ]
  },
  {
   "cell_type": "code",
   "execution_count": 15,
   "metadata": {},
   "outputs": [
    {
     "name": "stdout",
     "output_type": "stream",
     "text": [
      "Recall score :  0.9511784511784511\n",
      "Precision score :  0.28633333333333333\n"
     ]
    },
    {
     "data": {
      "text/plain": [
       "<AxesSubplot:>"
      ]
     },
     "execution_count": 15,
     "metadata": {},
     "output_type": "execute_result"
    },
    {
     "data": {
      "image/png": "[encoded data removed]",
      "text/plain": [
       "<Figure size 432x288 with 2 Axes>"
      ]
     },
     "metadata": {
      "needs_background": "light"
     },
     "output_type": "display_data"
    }
   ],
   "source": [
    "svc2_pred = svc2.predict(X_test_scaled)\n",
    "print('Recall score : ' , recall_score(y_test,svc2_pred))\n",
    "print('Precision score : ' , accuracy_score(y_test,svc2_pred))\n",
    "sns.heatmap(confusion_matrix(svc2_pred,y_test), annot = True, linewidths=.5, fmt='g', annot_kws = {'size':15},cmap='Blues')"
   ]
  },
  {
   "cell_type": "code",
   "execution_count": 16,
   "metadata": {},
   "outputs": [
    {
     "data": {
      "text/plain": [
       "GradientBoostingClassifier(random_state=42)"
      ]
     },
     "execution_count": 16,
     "metadata": {},
     "output_type": "execute_result"
    }
   ],
   "source": [
    "#En caso de que el banco le sirva con detectar el 70% de unos y minimice los falsos negativos.\n",
    "\n",
    "gbc = GradientBoostingClassifier(n_estimators = 100, random_state=42)\n",
    "\n",
    "gbc.fit(X_train_scaled, y)\n"
   ]
  },
  {
   "cell_type": "code",
   "execution_count": 17,
   "metadata": {},
   "outputs": [
    {
     "name": "stdout",
     "output_type": "stream",
     "text": [
      "Recall score :  0.6632996632996633\n",
      "Precision score :  0.741\n"
     ]
    },
    {
     "data": {
      "text/plain": [
       "<AxesSubplot:>"
      ]
     },
     "execution_count": 17,
     "metadata": {},
     "output_type": "execute_result"
    },
    {
     "data": {
      "image/png": "[encoded data removed]",
      "text/plain": [
       "<Figure size 432x288 with 2 Axes>"
      ]
     },
     "metadata": {
      "needs_background": "light"
     },
     "output_type": "display_data"
    }
   ],
   "source": [
    "gbc_pred = gbc.predict(X_test_scaled)\n",
    "print('Recall score : ' , recall_score(y_test,gbc_pred))\n",
    "print('Precision score : ' , accuracy_score(y_test,gbc_pred))\n",
    "sns.heatmap(confusion_matrix(gbc_pred,y_test), annot = True, linewidths=.5, fmt='g', annot_kws = {'size':15},cmap='Blues')"
   ]
  },
  {
   "cell_type": "markdown",
   "metadata": {},
   "source": [
    "#### GUARDADO DE LOS MODELOS"
   ]
  },
  {
   "cell_type": "code",
   "execution_count": 18,
   "metadata": {},
   "outputs": [],
   "source": [
    "with open('svc2', 'wb') as archivo_salida:\n",
    "    pickle.dump(svc2, archivo_salida)"
   ]
  }
 ],
 "metadata": {
  "interpreter": {
   "hash": "6c433571075479ff4c56ba6086e49cefe1f21e94fd4f6dc21e4fb2093e1be3c1"
  },
  "kernelspec": {
   "display_name": "Python 3.7.4 64-bit",
   "language": "python",
   "name": "python3"
  },
  "language_info": {
   "codemirror_mode": {
    "name": "ipython",
    "version": 3
   },
   "file_extension": ".py",
   "mimetype": "text/x-python",
   "name": "python",
   "nbconvert_exporter": "python",
   "pygments_lexer": "ipython3",
   "version": "3.7.4"
  },
  "orig_nbformat": 4
 },
 "nbformat": 4,
 "nbformat_minor": 2
}
