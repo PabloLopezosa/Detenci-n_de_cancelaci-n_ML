{
 "cells": [
  {
   "cell_type": "code",
   "execution_count": 1,
   "metadata": {},
   "outputs": [],
   "source": [
    "import pandas as pd\n",
    "import numpy as np\n",
    "\n",
    "import seaborn as sns\n",
    "import matplotlib.pyplot as plt\n",
    "\n",
    "from imblearn.over_sampling import SMOTE\n",
    "\n",
    "from sklearn.metrics import confusion_matrix, accuracy_score, precision_score, recall_score, f1_score, roc_auc_score\n",
    "from sklearn.metrics import make_scorer\n",
    "\n",
    "from sklearn.preprocessing import StandardScaler\n",
    "from sklearn.model_selection import GridSearchCV\n",
    "from sklearn.pipeline import make_pipeline\n",
    "from sklearn import ensemble, model_selection\n",
    "\n",
    "from sklearn.pipeline import Pipeline\n",
    "from sklearn import linear_model\n",
    "from sklearn.neighbors import KNeighborsClassifier\n",
    "from sklearn.svm import SVC\n",
    "from sklearn.svm import LinearSVC\n",
    "from sklearn.ensemble import GradientBoostingClassifier\n",
    "from sklearn.tree import DecisionTreeClassifier\n",
    "from xgboost import  XGBClassifier"
   ]
  },
  {
   "cell_type": "code",
   "execution_count": 3,
   "metadata": {},
   "outputs": [
    {
     "data": {
      "text/html": [
       "<div>\n",
       "<style scoped>\n",
       "    .dataframe tbody tr th:only-of-type {\n",
       "        vertical-align: middle;\n",
       "    }\n",
       "\n",
       "    .dataframe tbody tr th {\n",
       "        vertical-align: top;\n",
       "    }\n",
       "\n",
       "    .dataframe thead th {\n",
       "        text-align: right;\n",
       "    }\n",
       "</style>\n",
       "<table border=\"1\" class=\"dataframe\">\n",
       "  <thead>\n",
       "    <tr style=\"text-align: right;\">\n",
       "      <th></th>\n",
       "      <th>RowNumber</th>\n",
       "      <th>CustomerId</th>\n",
       "      <th>Surname</th>\n",
       "      <th>CreditScore</th>\n",
       "      <th>Geography</th>\n",
       "      <th>Gender</th>\n",
       "      <th>Age</th>\n",
       "      <th>Tenure</th>\n",
       "      <th>Balance</th>\n",
       "      <th>NumOfProducts</th>\n",
       "      <th>HasCrCard</th>\n",
       "      <th>IsActiveMember</th>\n",
       "      <th>EstimatedSalary</th>\n",
       "      <th>Exited</th>\n",
       "    </tr>\n",
       "  </thead>\n",
       "  <tbody>\n",
       "    <tr>\n",
       "      <th>0</th>\n",
       "      <td>1</td>\n",
       "      <td>15634602</td>\n",
       "      <td>Hargrave</td>\n",
       "      <td>619</td>\n",
       "      <td>France</td>\n",
       "      <td>Female</td>\n",
       "      <td>42</td>\n",
       "      <td>2</td>\n",
       "      <td>0.00</td>\n",
       "      <td>1</td>\n",
       "      <td>1</td>\n",
       "      <td>1</td>\n",
       "      <td>101348.88</td>\n",
       "      <td>1</td>\n",
       "    </tr>\n",
       "    <tr>\n",
       "      <th>1</th>\n",
       "      <td>2</td>\n",
       "      <td>15647311</td>\n",
       "      <td>Hill</td>\n",
       "      <td>608</td>\n",
       "      <td>Spain</td>\n",
       "      <td>Female</td>\n",
       "      <td>41</td>\n",
       "      <td>1</td>\n",
       "      <td>83807.86</td>\n",
       "      <td>1</td>\n",
       "      <td>0</td>\n",
       "      <td>1</td>\n",
       "      <td>112542.58</td>\n",
       "      <td>0</td>\n",
       "    </tr>\n",
       "    <tr>\n",
       "      <th>2</th>\n",
       "      <td>3</td>\n",
       "      <td>15619304</td>\n",
       "      <td>Onio</td>\n",
       "      <td>502</td>\n",
       "      <td>France</td>\n",
       "      <td>Female</td>\n",
       "      <td>42</td>\n",
       "      <td>8</td>\n",
       "      <td>159660.80</td>\n",
       "      <td>3</td>\n",
       "      <td>1</td>\n",
       "      <td>0</td>\n",
       "      <td>113931.57</td>\n",
       "      <td>1</td>\n",
       "    </tr>\n",
       "    <tr>\n",
       "      <th>3</th>\n",
       "      <td>4</td>\n",
       "      <td>15701354</td>\n",
       "      <td>Boni</td>\n",
       "      <td>699</td>\n",
       "      <td>France</td>\n",
       "      <td>Female</td>\n",
       "      <td>39</td>\n",
       "      <td>1</td>\n",
       "      <td>0.00</td>\n",
       "      <td>2</td>\n",
       "      <td>0</td>\n",
       "      <td>0</td>\n",
       "      <td>93826.63</td>\n",
       "      <td>0</td>\n",
       "    </tr>\n",
       "    <tr>\n",
       "      <th>4</th>\n",
       "      <td>5</td>\n",
       "      <td>15737888</td>\n",
       "      <td>Mitchell</td>\n",
       "      <td>850</td>\n",
       "      <td>Spain</td>\n",
       "      <td>Female</td>\n",
       "      <td>43</td>\n",
       "      <td>2</td>\n",
       "      <td>125510.82</td>\n",
       "      <td>1</td>\n",
       "      <td>1</td>\n",
       "      <td>1</td>\n",
       "      <td>79084.10</td>\n",
       "      <td>0</td>\n",
       "    </tr>\n",
       "  </tbody>\n",
       "</table>\n",
       "</div>"
      ],
      "text/plain": [
       "   RowNumber  CustomerId   Surname  CreditScore Geography  Gender  Age  \\\n",
       "0          1    15634602  Hargrave          619    France  Female   42   \n",
       "1          2    15647311      Hill          608     Spain  Female   41   \n",
       "2          3    15619304      Onio          502    France  Female   42   \n",
       "3          4    15701354      Boni          699    France  Female   39   \n",
       "4          5    15737888  Mitchell          850     Spain  Female   43   \n",
       "\n",
       "   Tenure    Balance  NumOfProducts  HasCrCard  IsActiveMember  \\\n",
       "0       2       0.00              1          1               1   \n",
       "1       1   83807.86              1          0               1   \n",
       "2       8  159660.80              3          1               0   \n",
       "3       1       0.00              2          0               0   \n",
       "4       2  125510.82              1          1               1   \n",
       "\n",
       "   EstimatedSalary  Exited  \n",
       "0        101348.88       1  \n",
       "1        112542.58       0  \n",
       "2        113931.57       1  \n",
       "3         93826.63       0  \n",
       "4         79084.10       0  "
      ]
     },
     "execution_count": 3,
     "metadata": {},
     "output_type": "execute_result"
    }
   ],
   "source": [
    "pd.read_csv('C:\\\\Users\\\\lopez\\\\OneDrive\\\\Escritorio\\\\BOOTCAMP_DS\\\\ALUMNO\\\\3-Machine_Learning\\\\Entregas\\\\entrega ML\\\\churn\\\\ENTREGABLE\\\\Data\\\\Data_raw\\\\Churn_Modelling.csv').head()"
   ]
  },
  {
   "cell_type": "markdown",
   "metadata": {},
   "source": [
    "##### Con este dataset se pretende predecir los clientes que van a abandonar el banco.\n",
    "\n",
    "- **RowNumber**: Índice.\n",
    "- **CustomerId:** Código único de cliente.\n",
    "- **Surname:** Apellido del clinete.\n",
    "- **CreditScore:** Mide la facilidad de obtener un credito.\n",
    "- **Geography:** País de residencia.\n",
    "- **Gender:** Género.\n",
    "- **Age:** Edad\n",
    "- **Tenure:** Tiempo que lleva el clinte perteneciendo al banco.\n",
    "- **Balance:** Cantidad de dinero que tiene el cliente en el banco depositado.\n",
    "- **NumOfProducts:** Número de productos que tiene un cliente asociados al banco.\n",
    "- **HasCrCard:** Si tiene tarjeta de credito o no (1= tiene trajeta de credito)\n",
    "- **IsActiveMember:** Cliente activo o no.\n",
    "- **EstimatedSalary:** Salario del cliente.\n",
    "- **Exited:** Será el target del modelo. Si ha cancelado sus cuentas en el banco o no, (abandono = 1).\n",
    "\n",
    "##### Para poder comporbar de forma correcta el funcionamiento de los modelos voy a dividir el dataset en dos, de tal forma que train sera el dataset de entrenamiento y constara de 7.000 registros, y test constara de los 3.000 restantes."
   ]
  },
  {
   "cell_type": "code",
   "execution_count": 8,
   "metadata": {},
   "outputs": [],
   "source": [
    "churn = pd.read_csv('C:\\\\Users\\\\lopez\\\\OneDrive\\\\Escritorio\\\\BOOTCAMP_DS\\\\ALUMNO\\\\3-Machine_Learning\\\\Entregas\\\\entrega ML\\\\churn\\\\ENTREGABLE\\\\Data\\\\Data_raw\\\\train.csv')"
   ]
  },
  {
   "cell_type": "code",
   "execution_count": 9,
   "metadata": {},
   "outputs": [
    {
     "name": "stdout",
     "output_type": "stream",
     "text": [
      "<class 'pandas.core.frame.DataFrame'>\n",
      "RangeIndex: 7000 entries, 0 to 6999\n",
      "Data columns (total 14 columns):\n",
      " #   Column           Non-Null Count  Dtype  \n",
      "---  ------           --------------  -----  \n",
      " 0   RowNumber        7000 non-null   int64  \n",
      " 1   CustomerId       7000 non-null   int64  \n",
      " 2   Surname          7000 non-null   object \n",
      " 3   CreditScore      7000 non-null   int64  \n",
      " 4   Geography        7000 non-null   object \n",
      " 5   Gender           7000 non-null   object \n",
      " 6   Age              7000 non-null   int64  \n",
      " 7   Tenure           7000 non-null   int64  \n",
      " 8   Balance          7000 non-null   float64\n",
      " 9   NumOfProducts    7000 non-null   int64  \n",
      " 10  HasCrCard        7000 non-null   int64  \n",
      " 11  IsActiveMember   7000 non-null   int64  \n",
      " 12  EstimatedSalary  7000 non-null   float64\n",
      " 13  Exited           7000 non-null   int64  \n",
      "dtypes: float64(2), int64(9), object(3)\n",
      "memory usage: 765.8+ KB\n"
     ]
    }
   ],
   "source": [
    "churn.info()"
   ]
  },
  {
   "cell_type": "markdown",
   "metadata": {},
   "source": [
    "##### El dataset  se train consta del 8.000 registros de clientes. Tenemos variables numéricas y no numéricas con las que habrá que trabajar. No hay valores nulos. También tenemos variables categoricas (Surname, Geography, Gender, Tenure, NumOfProducts, HasCrCard, IsActiveMember, Exited) y continuas (Age, CreditScore, Balance, EstimatedSalary)."
   ]
  },
  {
   "cell_type": "code",
   "execution_count": 65,
   "metadata": {},
   "outputs": [
    {
     "data": {
      "text/html": [
       "<div>\n",
       "<style scoped>\n",
       "    .dataframe tbody tr th:only-of-type {\n",
       "        vertical-align: middle;\n",
       "    }\n",
       "\n",
       "    .dataframe tbody tr th {\n",
       "        vertical-align: top;\n",
       "    }\n",
       "\n",
       "    .dataframe thead th {\n",
       "        text-align: right;\n",
       "    }\n",
       "</style>\n",
       "<table border=\"1\" class=\"dataframe\">\n",
       "  <thead>\n",
       "    <tr style=\"text-align: right;\">\n",
       "      <th></th>\n",
       "      <th>RowNumber</th>\n",
       "      <th>CustomerId</th>\n",
       "      <th>CreditScore</th>\n",
       "      <th>Age</th>\n",
       "      <th>Tenure</th>\n",
       "      <th>Balance</th>\n",
       "      <th>NumOfProducts</th>\n",
       "      <th>HasCrCard</th>\n",
       "      <th>IsActiveMember</th>\n",
       "      <th>EstimatedSalary</th>\n",
       "      <th>Exited</th>\n",
       "    </tr>\n",
       "  </thead>\n",
       "  <tbody>\n",
       "    <tr>\n",
       "      <th>count</th>\n",
       "      <td>7000.000000</td>\n",
       "      <td>7.000000e+03</td>\n",
       "      <td>7000.000000</td>\n",
       "      <td>7000.000000</td>\n",
       "      <td>7000.000000</td>\n",
       "      <td>7000.000000</td>\n",
       "      <td>7000.000000</td>\n",
       "      <td>7000.000000</td>\n",
       "      <td>7000.000000</td>\n",
       "      <td>7000.000000</td>\n",
       "      <td>7000.000000</td>\n",
       "    </tr>\n",
       "    <tr>\n",
       "      <th>mean</th>\n",
       "      <td>3500.500000</td>\n",
       "      <td>1.569070e+07</td>\n",
       "      <td>649.787000</td>\n",
       "      <td>38.892714</td>\n",
       "      <td>5.010286</td>\n",
       "      <td>76471.883751</td>\n",
       "      <td>1.526000</td>\n",
       "      <td>0.703286</td>\n",
       "      <td>0.512143</td>\n",
       "      <td>100631.400446</td>\n",
       "      <td>0.206143</td>\n",
       "    </tr>\n",
       "    <tr>\n",
       "      <th>std</th>\n",
       "      <td>2020.870275</td>\n",
       "      <td>7.157830e+04</td>\n",
       "      <td>97.046279</td>\n",
       "      <td>10.465562</td>\n",
       "      <td>2.887500</td>\n",
       "      <td>62403.383911</td>\n",
       "      <td>0.583047</td>\n",
       "      <td>0.456842</td>\n",
       "      <td>0.499888</td>\n",
       "      <td>57599.463109</td>\n",
       "      <td>0.404563</td>\n",
       "    </tr>\n",
       "    <tr>\n",
       "      <th>min</th>\n",
       "      <td>1.000000</td>\n",
       "      <td>1.556570e+07</td>\n",
       "      <td>350.000000</td>\n",
       "      <td>18.000000</td>\n",
       "      <td>0.000000</td>\n",
       "      <td>0.000000</td>\n",
       "      <td>1.000000</td>\n",
       "      <td>0.000000</td>\n",
       "      <td>0.000000</td>\n",
       "      <td>11.580000</td>\n",
       "      <td>0.000000</td>\n",
       "    </tr>\n",
       "    <tr>\n",
       "      <th>25%</th>\n",
       "      <td>1750.750000</td>\n",
       "      <td>1.562860e+07</td>\n",
       "      <td>582.000000</td>\n",
       "      <td>32.000000</td>\n",
       "      <td>3.000000</td>\n",
       "      <td>0.000000</td>\n",
       "      <td>1.000000</td>\n",
       "      <td>0.000000</td>\n",
       "      <td>0.000000</td>\n",
       "      <td>51113.055000</td>\n",
       "      <td>0.000000</td>\n",
       "    </tr>\n",
       "    <tr>\n",
       "      <th>50%</th>\n",
       "      <td>3500.500000</td>\n",
       "      <td>1.569068e+07</td>\n",
       "      <td>651.000000</td>\n",
       "      <td>37.000000</td>\n",
       "      <td>5.000000</td>\n",
       "      <td>97277.130000</td>\n",
       "      <td>1.000000</td>\n",
       "      <td>1.000000</td>\n",
       "      <td>1.000000</td>\n",
       "      <td>100890.865000</td>\n",
       "      <td>0.000000</td>\n",
       "    </tr>\n",
       "    <tr>\n",
       "      <th>75%</th>\n",
       "      <td>5250.250000</td>\n",
       "      <td>1.575183e+07</td>\n",
       "      <td>717.000000</td>\n",
       "      <td>44.000000</td>\n",
       "      <td>7.250000</td>\n",
       "      <td>127537.155000</td>\n",
       "      <td>2.000000</td>\n",
       "      <td>1.000000</td>\n",
       "      <td>1.000000</td>\n",
       "      <td>149587.657500</td>\n",
       "      <td>0.000000</td>\n",
       "    </tr>\n",
       "    <tr>\n",
       "      <th>max</th>\n",
       "      <td>7000.000000</td>\n",
       "      <td>1.581569e+07</td>\n",
       "      <td>850.000000</td>\n",
       "      <td>92.000000</td>\n",
       "      <td>10.000000</td>\n",
       "      <td>250898.090000</td>\n",
       "      <td>4.000000</td>\n",
       "      <td>1.000000</td>\n",
       "      <td>1.000000</td>\n",
       "      <td>199992.480000</td>\n",
       "      <td>1.000000</td>\n",
       "    </tr>\n",
       "  </tbody>\n",
       "</table>\n",
       "</div>"
      ],
      "text/plain": [
       "         RowNumber    CustomerId  CreditScore          Age       Tenure  \\\n",
       "count  7000.000000  7.000000e+03  7000.000000  7000.000000  7000.000000   \n",
       "mean   3500.500000  1.569070e+07   649.787000    38.892714     5.010286   \n",
       "std    2020.870275  7.157830e+04    97.046279    10.465562     2.887500   \n",
       "min       1.000000  1.556570e+07   350.000000    18.000000     0.000000   \n",
       "25%    1750.750000  1.562860e+07   582.000000    32.000000     3.000000   \n",
       "50%    3500.500000  1.569068e+07   651.000000    37.000000     5.000000   \n",
       "75%    5250.250000  1.575183e+07   717.000000    44.000000     7.250000   \n",
       "max    7000.000000  1.581569e+07   850.000000    92.000000    10.000000   \n",
       "\n",
       "             Balance  NumOfProducts    HasCrCard  IsActiveMember  \\\n",
       "count    7000.000000    7000.000000  7000.000000     7000.000000   \n",
       "mean    76471.883751       1.526000     0.703286        0.512143   \n",
       "std     62403.383911       0.583047     0.456842        0.499888   \n",
       "min         0.000000       1.000000     0.000000        0.000000   \n",
       "25%         0.000000       1.000000     0.000000        0.000000   \n",
       "50%     97277.130000       1.000000     1.000000        1.000000   \n",
       "75%    127537.155000       2.000000     1.000000        1.000000   \n",
       "max    250898.090000       4.000000     1.000000        1.000000   \n",
       "\n",
       "       EstimatedSalary       Exited  \n",
       "count      7000.000000  7000.000000  \n",
       "mean     100631.400446     0.206143  \n",
       "std       57599.463109     0.404563  \n",
       "min          11.580000     0.000000  \n",
       "25%       51113.055000     0.000000  \n",
       "50%      100890.865000     0.000000  \n",
       "75%      149587.657500     0.000000  \n",
       "max      199992.480000     1.000000  "
      ]
     },
     "execution_count": 65,
     "metadata": {},
     "output_type": "execute_result"
    }
   ],
   "source": [
    "churn.describe()"
   ]
  },
  {
   "cell_type": "markdown",
   "metadata": {},
   "source": [
    "- Las edades van de 18 a 92 años, siendo la media de edad 40 años. y estando la mayoria de las edades agrupadas en torno a los 37 años.\n",
    "- En 'Tenure' podemos observar que hay clientes nuevos que equivalen a 0, hasta clientes que llevan 10 años en el banco.\n",
    "- Credit Score mide la viabilidad de concecer un crédito, siendo 350 muy mala y 850 muy buena.\n",
    "- En balance hay cuentas que tienen 0 hasta 250k. \n",
    "- Credit card es una variable categórica en la que 0 significa que no cuentan con tarjeta de credito.\n",
    "- La media de miembros activos e inactivos es del 50%."
   ]
  },
  {
   "cell_type": "markdown",
   "metadata": {},
   "source": [
    "#### EXPLORACIÓN DE DATOS"
   ]
  },
  {
   "cell_type": "code",
   "execution_count": 66,
   "metadata": {},
   "outputs": [],
   "source": [
    "#sns.pairplot(churn , hue = 'Exited')"
   ]
  },
  {
   "cell_type": "markdown",
   "metadata": {},
   "source": [
    "- Las edades intermedias son las que mas cancelan.\n",
    "- Clientes con tres y cuatro productos cancelan mucho más en porporcion a los que tienen uno o dos."
   ]
  },
  {
   "cell_type": "code",
   "execution_count": 67,
   "metadata": {},
   "outputs": [
    {
     "name": "stdout",
     "output_type": "stream",
     "text": [
      "Figure(288x288)\n"
     ]
    },
    {
     "data": {
      "text/html": [
       "<div>\n",
       "<style scoped>\n",
       "    .dataframe tbody tr th:only-of-type {\n",
       "        vertical-align: middle;\n",
       "    }\n",
       "\n",
       "    .dataframe tbody tr th {\n",
       "        vertical-align: top;\n",
       "    }\n",
       "\n",
       "    .dataframe thead th {\n",
       "        text-align: right;\n",
       "    }\n",
       "</style>\n",
       "<table border=\"1\" class=\"dataframe\">\n",
       "  <thead>\n",
       "    <tr style=\"text-align: right;\">\n",
       "      <th></th>\n",
       "      <th>Exited</th>\n",
       "    </tr>\n",
       "  </thead>\n",
       "  <tbody>\n",
       "    <tr>\n",
       "      <th>0</th>\n",
       "      <td>5557</td>\n",
       "    </tr>\n",
       "    <tr>\n",
       "      <th>1</th>\n",
       "      <td>1443</td>\n",
       "    </tr>\n",
       "  </tbody>\n",
       "</table>\n",
       "</div>"
      ],
      "text/plain": [
       "   Exited\n",
       "0    5557\n",
       "1    1443"
      ]
     },
     "execution_count": 67,
     "metadata": {},
     "output_type": "execute_result"
    },
    {
     "data": {
      "image/png": "[encoded data removed]",
      "text/plain": [
       "<Figure size 288x288 with 1 Axes>"
      ]
     },
     "metadata": {},
     "output_type": "display_data"
    }
   ],
   "source": [
    "plt.figure(figsize=(4,4))\n",
    "plt.pie(churn['Exited'].value_counts(),\n",
    "        autopct='%1.2f%%')\n",
    "print (plt.gcf())\n",
    "\n",
    "pd.DataFrame(churn.Exited.value_counts())\n"
   ]
  },
  {
   "cell_type": "markdown",
   "metadata": {},
   "source": [
    "- La variable target está desvalanceada. El 20% han cancelado sus productos con el banco mientras que el 80% se mantiene como cliente."
   ]
  },
  {
   "cell_type": "markdown",
   "metadata": {},
   "source": [
    "##### Análisis univariante separando por la variable target para ver como se comportan las variables."
   ]
  },
  {
   "cell_type": "code",
   "execution_count": 68,
   "metadata": {},
   "outputs": [
    {
     "data": {
      "image/png": "[encoded data removed]",
      "text/plain": [
       "<Figure size 1080x1440 with 12 Axes>"
      ]
     },
     "metadata": {
      "needs_background": "light"
     },
     "output_type": "display_data"
    }
   ],
   "source": [
    "churn2 = pd.read_csv('Data/Data_raw/train.csv')\n",
    "churn2 = churn2.drop(['RowNumber','CustomerId','Surname'], axis=1)  \n",
    "'''\n",
    "Dataset sin transformar las variables para una mejor visualizacion.\n",
    "'''\n",
    "\n",
    "fig, axes = plt.subplots(6,2, figsize=(15,20))\n",
    "ExitedNo = churn2[churn2['Exited']==0]\n",
    "ExitedYes = churn2[churn2['Exited']==1]\n",
    "\n",
    "axes = axes.ravel()\n",
    "for i in range(len(churn2.columns)):\n",
    "    axes[i].hist(ExitedNo.values[:,i], bins = 40, color='b',alpha=0.4)\n",
    "    axes[i].hist(ExitedYes.values[:,i],bins = 40, color='r',alpha=0.4)\n",
    "    axes[i].set_title(churn2.columns[i])\n",
    "\n",
    "axes[0].legend(['ExitedNo','ExitedYes']);     "
   ]
  },
  {
   "cell_type": "markdown",
   "metadata": {},
   "source": [
    "#### DATA ENGENIERING\n",
    "\n",
    "- Lo primero que voy a hacer es ordenar y modificar las variables para poder hacer un análisis explorartiorio.\n",
    "- Las columnas RowNumber, CustomerId y Surname no tienen ningún uso para el modelo así que las elimino.\n",
    "- Otorgo valor numérico a las variables 'Geography' y 'Gender' para ver si mantienen correlación con la variable target.\n",
    "- Para intentar mejorar las correlaciones voy a agrupar todos los datos con comportamientos similares. \n",
    "- El caso de CreditScore mide la facilidad de obtener un credito en base a la solvencia, ingresos y otras variables. Las clasifico de peor a mejor segun el scoring que determina la banca.\n",
    "- Agrupo el número de productos. Con 1 y 2 productos asigno valor 0 y con 3 y 4 el valor 1. Esto lo hago porque hay diferencia significativa en cancelaciones de los que tienen 1 y 2 vs contra los de 3 y 4."
   ]
  },
  {
   "cell_type": "code",
   "execution_count": 69,
   "metadata": {},
   "outputs": [],
   "source": [
    "def transforming_df (data):\n",
    "    \n",
    "    data['Geography'] = data['Geography'].replace({'France': 0, 'Spain': 1, 'Germany': 2})\n",
    "    data['Gender'] = data ['Gender'].replace({'Female': 0, 'Male': 1})\n",
    "\n",
    "    data['CreditScore'] = np.where((data['CreditScore'] >=350) & (data['CreditScore'] <=580), 0, data['CreditScore'])\n",
    "    data['CreditScore'] = np.where((data['CreditScore'] >580) & (data['CreditScore'] <=670), 1, data['CreditScore'])\n",
    "    data['CreditScore'] = np.where((data['CreditScore'] >670) & (data['CreditScore'] <=740), 2, data['CreditScore'])\n",
    "    data['CreditScore'] = np.where((data['CreditScore'] >740) & (data['CreditScore'] <=800), 3, data['CreditScore'])\n",
    "    data['CreditScore'] = np.where((data['CreditScore'] >800) & (data['CreditScore'] <=850), 4, data['CreditScore'])\n",
    "\n",
    "    data['NumOfProducts'] = data['NumOfProducts'].replace({1: 0, 2: 0, 3: 1, 4 :1})\n",
    "\n",
    "    data.drop(['RowNumber','CustomerId','Surname'], axis=1, inplace = True)\n",
    "    \n",
    "    return data.head()"
   ]
  },
  {
   "cell_type": "code",
   "execution_count": 70,
   "metadata": {},
   "outputs": [
    {
     "data": {
      "text/html": [
       "<div>\n",
       "<style scoped>\n",
       "    .dataframe tbody tr th:only-of-type {\n",
       "        vertical-align: middle;\n",
       "    }\n",
       "\n",
       "    .dataframe tbody tr th {\n",
       "        vertical-align: top;\n",
       "    }\n",
       "\n",
       "    .dataframe thead th {\n",
       "        text-align: right;\n",
       "    }\n",
       "</style>\n",
       "<table border=\"1\" class=\"dataframe\">\n",
       "  <thead>\n",
       "    <tr style=\"text-align: right;\">\n",
       "      <th></th>\n",
       "      <th>CreditScore</th>\n",
       "      <th>Geography</th>\n",
       "      <th>Gender</th>\n",
       "      <th>Age</th>\n",
       "      <th>Tenure</th>\n",
       "      <th>Balance</th>\n",
       "      <th>NumOfProducts</th>\n",
       "      <th>HasCrCard</th>\n",
       "      <th>IsActiveMember</th>\n",
       "      <th>EstimatedSalary</th>\n",
       "      <th>Exited</th>\n",
       "    </tr>\n",
       "  </thead>\n",
       "  <tbody>\n",
       "    <tr>\n",
       "      <th>0</th>\n",
       "      <td>1</td>\n",
       "      <td>0</td>\n",
       "      <td>0</td>\n",
       "      <td>42</td>\n",
       "      <td>2</td>\n",
       "      <td>0.00</td>\n",
       "      <td>0</td>\n",
       "      <td>1</td>\n",
       "      <td>1</td>\n",
       "      <td>101348.88</td>\n",
       "      <td>1</td>\n",
       "    </tr>\n",
       "    <tr>\n",
       "      <th>1</th>\n",
       "      <td>1</td>\n",
       "      <td>1</td>\n",
       "      <td>0</td>\n",
       "      <td>41</td>\n",
       "      <td>1</td>\n",
       "      <td>83807.86</td>\n",
       "      <td>0</td>\n",
       "      <td>0</td>\n",
       "      <td>1</td>\n",
       "      <td>112542.58</td>\n",
       "      <td>0</td>\n",
       "    </tr>\n",
       "    <tr>\n",
       "      <th>2</th>\n",
       "      <td>0</td>\n",
       "      <td>0</td>\n",
       "      <td>0</td>\n",
       "      <td>42</td>\n",
       "      <td>8</td>\n",
       "      <td>159660.80</td>\n",
       "      <td>1</td>\n",
       "      <td>1</td>\n",
       "      <td>0</td>\n",
       "      <td>113931.57</td>\n",
       "      <td>1</td>\n",
       "    </tr>\n",
       "    <tr>\n",
       "      <th>3</th>\n",
       "      <td>2</td>\n",
       "      <td>0</td>\n",
       "      <td>0</td>\n",
       "      <td>39</td>\n",
       "      <td>1</td>\n",
       "      <td>0.00</td>\n",
       "      <td>0</td>\n",
       "      <td>0</td>\n",
       "      <td>0</td>\n",
       "      <td>93826.63</td>\n",
       "      <td>0</td>\n",
       "    </tr>\n",
       "    <tr>\n",
       "      <th>4</th>\n",
       "      <td>4</td>\n",
       "      <td>1</td>\n",
       "      <td>0</td>\n",
       "      <td>43</td>\n",
       "      <td>2</td>\n",
       "      <td>125510.82</td>\n",
       "      <td>0</td>\n",
       "      <td>1</td>\n",
       "      <td>1</td>\n",
       "      <td>79084.10</td>\n",
       "      <td>0</td>\n",
       "    </tr>\n",
       "  </tbody>\n",
       "</table>\n",
       "</div>"
      ],
      "text/plain": [
       "   CreditScore  Geography  Gender  Age  Tenure    Balance  NumOfProducts  \\\n",
       "0            1          0       0   42       2       0.00              0   \n",
       "1            1          1       0   41       1   83807.86              0   \n",
       "2            0          0       0   42       8  159660.80              1   \n",
       "3            2          0       0   39       1       0.00              0   \n",
       "4            4          1       0   43       2  125510.82              0   \n",
       "\n",
       "   HasCrCard  IsActiveMember  EstimatedSalary  Exited  \n",
       "0          1               1        101348.88       1  \n",
       "1          0               1        112542.58       0  \n",
       "2          1               0        113931.57       1  \n",
       "3          0               0         93826.63       0  \n",
       "4          1               1         79084.10       0  "
      ]
     },
     "execution_count": 70,
     "metadata": {},
     "output_type": "execute_result"
    }
   ],
   "source": [
    "transforming_df(churn)"
   ]
  },
  {
   "cell_type": "code",
   "execution_count": 71,
   "metadata": {},
   "outputs": [
    {
     "data": {
      "text/plain": [
       "<AxesSubplot:>"
      ]
     },
     "execution_count": 71,
     "metadata": {},
     "output_type": "execute_result"
    },
    {
     "data": {
      "image/png": "[encoded data removed]",
      "text/plain": [
       "<Figure size 720x720 with 2 Axes>"
      ]
     },
     "metadata": {
      "needs_background": "light"
     },
     "output_type": "display_data"
    }
   ],
   "source": [
    "#Visualizamos la matriz de correlacion para ver como afectan las variables al target. \n",
    "\n",
    "plt.figure(figsize=(10,10))\n",
    "sns.heatmap(churn.corr(), annot = True)\n"
   ]
  },
  {
   "cell_type": "markdown",
   "metadata": {},
   "source": [
    "#### DATA PROCESING"
   ]
  },
  {
   "cell_type": "code",
   "execution_count": 72,
   "metadata": {},
   "outputs": [
    {
     "name": "stderr",
     "output_type": "stream",
     "text": [
      "C:\\Users\\lopez\\AppData\\Local\\Programs\\Python\\Python37\\lib\\site-packages\\ipykernel_launcher.py:2: FutureWarning: In a future version of pandas all arguments of DataFrame.drop except for the argument 'labels' will be keyword-only\n",
      "  \n"
     ]
    }
   ],
   "source": [
    "#Sepramos los datos en train y test para poder hacer una valoración rápida de cuáles son los mejores modelos y más adelante hacer la prueba final con el datset test.\n",
    "X = churn.drop(['Exited'],1)\n",
    "y = churn['Exited']\n",
    "\n",
    "from sklearn.model_selection import train_test_split\n",
    "X_train, X_test, y_train, y_test = train_test_split(X, y, test_size = 0.20, random_state = 42)"
   ]
  },
  {
   "cell_type": "markdown",
   "metadata": {},
   "source": [
    "Cómo el target es desbalanceado uso SMOTE para equiparar el número de unos y ceros y así poder entrenar con un modelo que balancee el target.\n",
    "\n",
    "Que se cuelen ceros como uno no me preocupa porque no tiene impacto negativo en mi negocio, pero que se cuelen unos como ceros(17) me preocupa mas porque son clinetes que no puedo predecir que cayan a cancelar las cuentas."
   ]
  },
  {
   "cell_type": "markdown",
   "metadata": {},
   "source": [
    "#### SMOTE"
   ]
  },
  {
   "cell_type": "code",
   "execution_count": 73,
   "metadata": {},
   "outputs": [
    {
     "data": {
      "text/plain": [
       "0    4456\n",
       "1    4456\n",
       "Name: Exited, dtype: int64"
      ]
     },
     "execution_count": 73,
     "metadata": {},
     "output_type": "execute_result"
    }
   ],
   "source": [
    "smoting = SMOTE(sampling_strategy='auto', random_state=42, k_neighbors= 10)\n",
    "X_train, y_train = smoting.fit_resample(X_train, y_train)\n",
    "\n",
    "'''\n",
    "Hace SMOOTING solo en la variable de entrenamiento no en el test, ya que duplicar datos en test para valancear nos \n",
    "alejaria del problema real.\n",
    "'''\n",
    "\n",
    "y_train.value_counts()"
   ]
  },
  {
   "cell_type": "markdown",
   "metadata": {},
   "source": [
    "##### ESCALADO DE DATOS"
   ]
  },
  {
   "cell_type": "code",
   "execution_count": 74,
   "metadata": {},
   "outputs": [],
   "source": [
    "from sklearn.preprocessing import StandardScaler\n",
    "X_train_scaled = StandardScaler().fit_transform(X_train.values)\n",
    "X_test_scaled = StandardScaler().fit_transform(X_test.values)"
   ]
  },
  {
   "cell_type": "markdown",
   "metadata": {},
   "source": [
    "#### ELECCIÓN DE MÉTRICAS\n",
    "\n",
    "- Accuracy : Mide solo los correctos. al estar desvalanceado no nos sirve.\n",
    "- Recall : mide la tasa de true Positive. Es decir se centra en los unos y te da el porcentaje clasificado correctamente como unos frente a los unos clasificados como ceros.\n",
    "- Precision : numero indentificado correctamente como uno del total de elementos identificados como uno. True positive(unos que predice cómo unos) entre los false positive (ceros que predice como uno). Si premio la precision fallara menos ceros como unos pero bajaran los unos que clasifica correctamente.\n",
    "- Quiero un recall alto porque necesito hacer enfasis en los unos y que se me escapen pocos, pero intentando siempre mantener una precision balanceada. "
   ]
  },
  {
   "cell_type": "markdown",
   "metadata": {},
   "source": [
    "#### TESTING AND TRAINING MODELS"
   ]
  },
  {
   "cell_type": "markdown",
   "metadata": {},
   "source": [
    "#### REGRESION"
   ]
  },
  {
   "cell_type": "code",
   "execution_count": 75,
   "metadata": {},
   "outputs": [
    {
     "name": "stdout",
     "output_type": "stream",
     "text": [
      "ROC score :  0.6887399414943546\n",
      "F1 score :  0.47875647668393795\n",
      "-----------------------------------\n",
      "Recall score :  0.7725752508361204\n",
      "Precision score :  0.6407142857142857\n"
     ]
    },
    {
     "data": {
      "text/plain": [
       "array([[666,  68],\n",
       "       [435, 231]], dtype=int64)"
      ]
     },
     "execution_count": 75,
     "metadata": {},
     "output_type": "execute_result"
    }
   ],
   "source": [
    "lmr = linear_model.LogisticRegression()\n",
    "\n",
    "lmr.fit(X_train_scaled, y_train)\n",
    "\n",
    "lmr_pred = lmr.predict(X_test_scaled)\n",
    "\n",
    "print('ROC score : ' , roc_auc_score(y_test,lmr_pred))\n",
    "print('F1 score : ' , f1_score(y_test,lmr_pred))\n",
    "print('-'*35)\n",
    "print('Recall score : ' , recall_score(y_test,lmr_pred))\n",
    "print('Precision score : ' , accuracy_score(y_test,lmr_pred))\n",
    "lrm_matrix = confusion_matrix(lmr_pred,y_test)\n",
    "lrm_matrix"
   ]
  },
  {
   "cell_type": "code",
   "execution_count": 76,
   "metadata": {},
   "outputs": [
    {
     "data": {
      "text/plain": [
       "<AxesSubplot:>"
      ]
     },
     "execution_count": 76,
     "metadata": {},
     "output_type": "execute_result"
    },
    {
     "data": {
      "image/png": "[encoded data removed]",
      "text/plain": [
       "<Figure size 360x288 with 2 Axes>"
      ]
     },
     "metadata": {
      "needs_background": "light"
     },
     "output_type": "display_data"
    }
   ],
   "source": [
    "plt.figure(figsize=(5,4))\n",
    "sns.heatmap(confusion_matrix(lmr_pred,y_test), annot = True, linewidths=.5, fmt='g', cmap='Blues')"
   ]
  },
  {
   "cell_type": "markdown",
   "metadata": {},
   "source": [
    "#### DECISION TREE CLASSIFIER"
   ]
  },
  {
   "cell_type": "code",
   "execution_count": 77,
   "metadata": {},
   "outputs": [
    {
     "name": "stdout",
     "output_type": "stream",
     "text": [
      "ROC score :  0.6673957089784599\n",
      "F1 score :  0.4565217391304348\n",
      "-----------------------------------\n",
      "Recall score :  0.7725752508361204\n",
      "Precision score :  0.6071428571428571\n"
     ]
    },
    {
     "data": {
      "text/plain": [
       "array([[619,  68],\n",
       "       [482, 231]], dtype=int64)"
      ]
     },
     "execution_count": 77,
     "metadata": {},
     "output_type": "execute_result"
    }
   ],
   "source": [
    "dtc = DecisionTreeClassifier()\n",
    "\n",
    "params = {'max_depth': list(range(1,20)),         \n",
    "         'min_samples_leaf' : range(1,20), \n",
    "         }\n",
    "\n",
    "gs_dtc = GridSearchCV(dtc, params, scoring='recall')\n",
    "\n",
    "gs_dtc.fit(X_train_scaled,y_train)\n",
    "\n",
    "gs_dtc_pred = gs_dtc.predict(X_test_scaled)\n",
    "\n",
    "print('ROC score : ' , roc_auc_score(y_test,gs_dtc_pred))\n",
    "print('F1 score : ' , f1_score(y_test,gs_dtc_pred))\n",
    "print('-'*35)\n",
    "print('Recall score : ' , recall_score(y_test,gs_dtc_pred))\n",
    "print('Precision score : ' , accuracy_score(y_test,gs_dtc_pred))\n",
    "dtc_matrix = confusion_matrix(gs_dtc_pred,y_test)\n",
    "dtc_matrix\n"
   ]
  },
  {
   "cell_type": "markdown",
   "metadata": {},
   "source": [
    "#### KNN / PIPELINE / GRIDSEARCHCV"
   ]
  },
  {
   "cell_type": "code",
   "execution_count": 156,
   "metadata": {},
   "outputs": [
    {
     "name": "stdout",
     "output_type": "stream",
     "text": [
      "ROC score :  0.6884847766852269\n",
      "F1 score :  0.4893350062735258\n",
      "-----------------------------------\n",
      "Recall score :  0.6521739130434783\n",
      "Precision score :  0.7092857142857143\n"
     ]
    },
    {
     "data": {
      "text/plain": [
       "array([[798, 104],\n",
       "       [303, 195]], dtype=int64)"
      ]
     },
     "execution_count": 156,
     "metadata": {},
     "output_type": "execute_result"
    }
   ],
   "source": [
    "KNN = KNeighborsClassifier()\n",
    "\n",
    "params = {'n_neighbors': list(range(1,25))  \n",
    "         }   \n",
    "\n",
    "gs_KNN = GridSearchCV(KNN, params, scoring='recall')\n",
    "\n",
    "gs_KNN.fit(X_train_scaled,y_train)\n",
    "\n",
    "KNN_pred = gs_KNN.predict(X_test_scaled)\n",
    "\n",
    "print('ROC score : ' , roc_auc_score(y_test,KNN_pred))\n",
    "print('F1 score : ' , f1_score(y_test,KNN_pred))\n",
    "print('-'*35)\n",
    "print('Recall score : ' , recall_score(y_test,KNN_pred))\n",
    "print('Precision score : ' , accuracy_score(y_test,KNN_pred))\n",
    "KNN_matrix = confusion_matrix(KNN_pred,y_test)\n",
    "KNN_matrix"
   ]
  },
  {
   "cell_type": "markdown",
   "metadata": {},
   "source": [
    "#### SVM\n",
    "\n",
    "- Polinómica"
   ]
  },
  {
   "cell_type": "code",
   "execution_count": 157,
   "metadata": {},
   "outputs": [
    {
     "name": "stdout",
     "output_type": "stream",
     "text": [
      "ROC score :  0.5474333154110432\n",
      "F1 score :  0.37279267495094837\n",
      "-----------------------------------\n",
      "Recall score :  0.9531772575250836\n",
      "Precision score :  0.315\n"
     ]
    },
    {
     "data": {
      "text/plain": [
       "array([[156,  14],\n",
       "       [945, 285]], dtype=int64)"
      ]
     },
     "execution_count": 157,
     "metadata": {},
     "output_type": "execute_result"
    }
   ],
   "source": [
    "svm = SVC(kernel='poly')\n",
    "\n",
    "params = {'degree':list(range(10,20))\n",
    "                }\n",
    "\n",
    "svm_gtc = GridSearchCV(svm, params, scoring='recall')         \n",
    "\n",
    "svm_gtc.fit(X_train_scaled,y_train)\n",
    "svm_pred = svm_gtc.predict(X_test_scaled)\n",
    "\n",
    "print('ROC score : ' , roc_auc_score(y_test,svm_pred))\n",
    "print('F1 score : ' , f1_score(y_test,svm_pred))\n",
    "print('-'*35)\n",
    "print('Recall score : ' , recall_score(y_test,svm_pred))\n",
    "print('Precision score : ' , accuracy_score(y_test,svm_pred))\n",
    "svm_matrix = confusion_matrix(svm_pred,y_test)\n",
    "svm_matrix\n"
   ]
  },
  {
   "cell_type": "code",
   "execution_count": 158,
   "metadata": {},
   "outputs": [
    {
     "data": {
      "text/plain": [
       "{'degree': 19}"
      ]
     },
     "execution_count": 158,
     "metadata": {},
     "output_type": "execute_result"
    }
   ],
   "source": [
    "svm_gtc.best_params_"
   ]
  },
  {
   "cell_type": "code",
   "execution_count": 78,
   "metadata": {},
   "outputs": [
    {
     "name": "stdout",
     "output_type": "stream",
     "text": [
      "ROC score :  0.7012096027023169\n",
      "F1 score :  0.4902564102564102\n",
      "-----------------------------------\n",
      "Recall score :  0.7993311036789298\n",
      "Precision score :  0.645\n"
     ]
    },
    {
     "data": {
      "text/plain": [
       "array([[664,  60],\n",
       "       [437, 239]], dtype=int64)"
      ]
     },
     "execution_count": 78,
     "metadata": {},
     "output_type": "execute_result"
    }
   ],
   "source": [
    "svm = SVC(kernel='poly', degree =3)\n",
    "\n",
    "svm.fit(X_train_scaled,y_train)\n",
    "svm_pred = svm.predict(X_test_scaled)\n",
    "\n",
    "print('ROC score : ' , roc_auc_score(y_test,svm_pred))\n",
    "print('F1 score : ' , f1_score(y_test,svm_pred))\n",
    "print('-'*35)\n",
    "print('Recall score : ' , recall_score(y_test,svm_pred))\n",
    "print('Precision score : ' , accuracy_score(y_test,svm_pred))\n",
    "svm_matrix = confusion_matrix(svm_pred,y_test)\n",
    "svm_matrix"
   ]
  },
  {
   "cell_type": "markdown",
   "metadata": {},
   "source": [
    "- SVC Linear"
   ]
  },
  {
   "cell_type": "code",
   "execution_count": 160,
   "metadata": {},
   "outputs": [
    {
     "name": "stdout",
     "output_type": "stream",
     "text": [
      "ROC score :  0.687356279940097\n",
      "F1 score :  0.47798742138364775\n",
      "-----------------------------------\n",
      "Recall score :  0.7625418060200669\n",
      "Precision score :  0.6442857142857142\n"
     ]
    },
    {
     "data": {
      "text/plain": [
       "array([[674,  71],\n",
       "       [427, 228]], dtype=int64)"
      ]
     },
     "execution_count": 160,
     "metadata": {},
     "output_type": "execute_result"
    }
   ],
   "source": [
    "svm_l = SVC(kernel='linear')\n",
    "\n",
    "svm_l.fit(X_train_scaled,y_train)\n",
    "svml_pred = svm_l.predict(X_test_scaled)\n",
    "\n",
    "print('ROC score : ' , roc_auc_score(y_test,svml_pred))\n",
    "print('F1 score : ' , f1_score(y_test,svml_pred))\n",
    "print('-'*35)\n",
    "print('Recall score : ' , recall_score(y_test,svml_pred))\n",
    "print('Precision score : ' , accuracy_score(y_test,svml_pred))\n",
    "svc_matrix = confusion_matrix(svml_pred,y_test)\n",
    "svc_matrix"
   ]
  },
  {
   "cell_type": "markdown",
   "metadata": {},
   "source": [
    "- LinearSVC"
   ]
  },
  {
   "cell_type": "code",
   "execution_count": 161,
   "metadata": {},
   "outputs": [
    {
     "name": "stdout",
     "output_type": "stream",
     "text": [
      "ROC score :  0.634617662872609\n",
      "F1 score :  0.4261715296198055\n",
      "-----------------------------------\n",
      "Recall score :  0.8060200668896321\n",
      "Precision score :  0.5364285714285715\n"
     ]
    },
    {
     "name": "stderr",
     "output_type": "stream",
     "text": [
      "C:\\Users\\lopez\\AppData\\Local\\Programs\\Python\\Python37\\lib\\site-packages\\sklearn\\svm\\_base.py:1208: ConvergenceWarning: Liblinear failed to converge, increase the number of iterations.\n",
      "  ConvergenceWarning,\n"
     ]
    },
    {
     "data": {
      "text/plain": [
       "array([[510,  58],\n",
       "       [591, 241]], dtype=int64)"
      ]
     },
     "execution_count": 161,
     "metadata": {},
     "output_type": "execute_result"
    }
   ],
   "source": [
    "svm_lin = Pipeline([(\"linear_svc\", LinearSVC(C = 160, loss='hinge', random_state=42))\n",
    "])\n",
    "\n",
    "svm_lin.fit(X_train_scaled, y_train)\n",
    "svm__lin_pred = svm_lin.predict(X_test_scaled)\n",
    "\n",
    "print('ROC score : ' , roc_auc_score(y_test,svm__lin_pred))\n",
    "print('F1 score : ' , f1_score(y_test,svm__lin_pred))\n",
    "print('-'*35)\n",
    "print('Recall score : ' , recall_score(y_test,svm__lin_pred))\n",
    "print('Precision score : ' , accuracy_score(y_test,svm__lin_pred))\n",
    "svm_lin_matrix = confusion_matrix(svm__lin_pred,y_test)\n",
    "svm_lin_matrix"
   ]
  },
  {
   "cell_type": "markdown",
   "metadata": {},
   "source": [
    "#### RANDOM FOREST CLASSIFIER"
   ]
  },
  {
   "cell_type": "code",
   "execution_count": 162,
   "metadata": {},
   "outputs": [
    {
     "name": "stdout",
     "output_type": "stream",
     "text": [
      "ROC score :  0.6947788419770412\n",
      "F1 score :  0.5020242914979757\n",
      "-----------------------------------\n",
      "Recall score :  0.6220735785953178\n",
      "Precision score :  0.7364285714285714\n"
     ]
    },
    {
     "data": {
      "text/plain": [
       "array([[845, 113],\n",
       "       [256, 186]], dtype=int64)"
      ]
     },
     "execution_count": 162,
     "metadata": {},
     "output_type": "execute_result"
    }
   ],
   "source": [
    "RFC = ensemble.RandomForestClassifier()\n",
    "\n",
    "parameters = {\n",
    "    'max_depth':list(range(1,20))\n",
    "    }\n",
    "\n",
    "rfc = model_selection.RandomizedSearchCV(estimator = RFC, \n",
    "                  param_distributions= parameters,\n",
    "                  scoring=make_scorer(roc_auc_score, greater_is_better=True,\n",
    "                  needs_threshold=True),\n",
    "                  n_iter=10)\n",
    "\n",
    "\n",
    "rfc.fit(X_train_scaled, y_train)\n",
    "rfc_pred = rfc.predict(X_test_scaled)\n",
    "\n",
    "print('ROC score : ' , roc_auc_score(y_test,rfc_pred))\n",
    "print('F1 score : ' , f1_score(y_test,rfc_pred))\n",
    "print('-'*35)\n",
    "print('Recall score : ' , recall_score(y_test,rfc_pred))\n",
    "print('Precision score : ' , accuracy_score(y_test,rfc_pred))\n",
    "rfc_matrix = confusion_matrix(rfc_pred,y_test)\n",
    "rfc_matrix"
   ]
  },
  {
   "cell_type": "markdown",
   "metadata": {},
   "source": [
    "#### XGB CLASSIFIER"
   ]
  },
  {
   "cell_type": "code",
   "execution_count": 29,
   "metadata": {},
   "outputs": [
    {
     "name": "stderr",
     "output_type": "stream",
     "text": [
      "C:\\Users\\lopez\\AppData\\Local\\Programs\\Python\\Python37\\lib\\site-packages\\xgboost\\sklearn.py:1224: UserWarning: The use of label encoder in XGBClassifier is deprecated and will be removed in a future release. To remove this warning, do the following: 1) Pass option use_label_encoder=False when constructing XGBClassifier object; and 2) Encode your labels (y) as integers starting with 0, i.e. 0, 1, 2, ..., [num_class - 1].\n",
      "  warnings.warn(label_encoder_deprecation_msg, UserWarning)\n"
     ]
    },
    {
     "name": "stdout",
     "output_type": "stream",
     "text": [
      "[11:18:05] WARNING: C:/Users/Administrator/workspace/xgboost-win64_release_1.5.1/src/learner.cc:1115: Starting in XGBoost 1.3.0, the default evaluation metric used with the objective 'binary:logistic' was changed from 'error' to 'logloss'. Explicitly set eval_metric if you'd like to restore the old behavior.\n",
      "ROC score :  0.6902800433780176\n",
      "Precision score :  0.4\n",
      "Recall score :  0.6421404682274248\n",
      "F1 score :  0.4929396662387677\n"
     ]
    },
    {
     "data": {
      "text/plain": [
       "array([[813, 107],\n",
       "       [288, 192]], dtype=int64)"
      ]
     },
     "execution_count": 29,
     "metadata": {},
     "output_type": "execute_result"
    }
   ],
   "source": [
    "xgb = XGBClassifier(random_state=42, n_estimators = 200)\n",
    "\n",
    "xgb.fit(X_train_scaled, y_train)\n",
    "best_xgb_clf_pred = xgb.predict(X_test_scaled)\n",
    "\n",
    "print('ROC score : ' , roc_auc_score(y_test,best_xgb_clf_pred))\n",
    "print('Precision score : ' , precision_score(y_test,best_xgb_clf_pred))\n",
    "print('Recall score : ' , recall_score(y_test,best_xgb_clf_pred))\n",
    "print('F1 score : ' , f1_score(y_test,best_xgb_clf_pred))\n",
    "xgb_matrix = confusion_matrix(best_xgb_clf_pred,y_test)\n",
    "xgb_matrix"
   ]
  },
  {
   "cell_type": "markdown",
   "metadata": {},
   "source": [
    "#### GRADIENT BOOST CLASSIFIER"
   ]
  },
  {
   "cell_type": "code",
   "execution_count": 164,
   "metadata": {},
   "outputs": [
    {
     "name": "stdout",
     "output_type": "stream",
     "text": [
      "ROC score :  0.7085941937855218\n",
      "Precision score :  0.395910780669145\n",
      "Recall score :  0.7123745819397993\n",
      "F1 score :  0.5089605734767025\n"
     ]
    },
    {
     "data": {
      "text/plain": [
       "array([[776,  86],\n",
       "       [325, 213]], dtype=int64)"
      ]
     },
     "execution_count": 164,
     "metadata": {},
     "output_type": "execute_result"
    }
   ],
   "source": [
    "gbc = GradientBoostingClassifier(n_estimators = 200, random_state=42)\n",
    "\n",
    "gbc.fit(X_train_scaled, y_train)\n",
    "\n",
    "y_pred_gbc = gbc.predict(X_test_scaled)\n",
    "\n",
    "print('ROC score : ' , roc_auc_score(y_test,y_pred_gbc))\n",
    "print('Precision score : ' , precision_score(y_test,y_pred_gbc))\n",
    "print('Recall score : ' , recall_score(y_test,y_pred_gbc))\n",
    "print('F1 score : ' , f1_score(y_test,y_pred_gbc))\n",
    "gbc_matrix = confusion_matrix(y_pred_gbc,y_test)\n",
    "gbc_matrix"
   ]
  },
  {
   "cell_type": "markdown",
   "metadata": {},
   "source": [
    "#### PRUEBA FINAL\n",
    "- Comprobamos el desempeño del modelo con un datset final de 3000 registros para ver como predice."
   ]
  },
  {
   "cell_type": "code",
   "execution_count": 10,
   "metadata": {},
   "outputs": [
    {
     "ename": "NameError",
     "evalue": "name 'transforming_df' is not defined",
     "output_type": "error",
     "traceback": [
      "\u001b[1;31m---------------------------------------------------------------------------\u001b[0m",
      "\u001b[1;31mNameError\u001b[0m                                 Traceback (most recent call last)",
      "\u001b[1;32m~\\AppData\\Local\\Temp\\ipykernel_22256\\3340773043.py\u001b[0m in \u001b[0;36m<module>\u001b[1;34m\u001b[0m\n\u001b[0;32m      1\u001b[0m \u001b[0mtest\u001b[0m \u001b[1;33m=\u001b[0m \u001b[0mpd\u001b[0m\u001b[1;33m.\u001b[0m\u001b[0mread_csv\u001b[0m\u001b[1;33m(\u001b[0m\u001b[1;34m'C:\\\\Users\\\\lopez\\\\OneDrive\\\\Escritorio\\\\BOOTCAMP_DS\\\\ALUMNO\\\\3-Machine_Learning\\\\Entregas\\\\entrega ML\\\\churn\\\\ENTREGABLE\\\\Data\\\\Data_raw\\\\test.csv'\u001b[0m\u001b[1;33m)\u001b[0m\u001b[1;33m\u001b[0m\u001b[1;33m\u001b[0m\u001b[0m\n\u001b[0;32m      2\u001b[0m \u001b[1;33m\u001b[0m\u001b[0m\n\u001b[1;32m----> 3\u001b[1;33m \u001b[0mtransforming_df\u001b[0m\u001b[1;33m(\u001b[0m\u001b[0mtest\u001b[0m\u001b[1;33m)\u001b[0m\u001b[1;33m\u001b[0m\u001b[1;33m\u001b[0m\u001b[0m\n\u001b[0m\u001b[0;32m      4\u001b[0m \u001b[1;33m\u001b[0m\u001b[0m\n\u001b[0;32m      5\u001b[0m \u001b[1;33m\u001b[0m\u001b[0m\n",
      "\u001b[1;31mNameError\u001b[0m: name 'transforming_df' is not defined"
     ]
    }
   ],
   "source": [
    "test = pd.read_csv('C:\\\\Users\\\\lopez\\\\OneDrive\\\\Escritorio\\\\BOOTCAMP_DS\\\\ALUMNO\\\\3-Machine_Learning\\\\Entregas\\\\entrega ML\\\\churn\\\\ENTREGABLE\\\\Data\\\\Data_raw\\\\test.csv')\n",
    "\n",
    "transforming_df(test)\n",
    "\n",
    "\n",
    "X = test.drop(['Exited'],1)\n",
    "y = test['Exited']\n",
    "X_scaled = StandardScaler().fit_transform(X.values)\n",
    "pd.DataFrame(y.value_counts())"
   ]
  },
  {
   "cell_type": "code",
   "execution_count": 80,
   "metadata": {},
   "outputs": [
    {
     "name": "stdout",
     "output_type": "stream",
     "text": [
      "[[1409  124]\n",
      " [ 997  470]]\n"
     ]
    }
   ],
   "source": [
    "svm.predict(X_scaled)\n",
    "print (confusion_matrix(svm.predict(X_scaled),y))"
   ]
  },
  {
   "cell_type": "markdown",
   "metadata": {},
   "source": [
    "- Viendo la situacion del banco, la mayoria de clientes que pierden son clientes antiguos con varios porductos y con actividad bancaria por lo que dejan el banco por falta de un buen servicio. por ello se podria considerar que el mejor modelo es el que mneos unos deje sin detectar aunq se cuelen muchos falsos negativos."
   ]
  }
 ],
 "metadata": {
  "interpreter": {
   "hash": "6c433571075479ff4c56ba6086e49cefe1f21e94fd4f6dc21e4fb2093e1be3c1"
  },
  "kernelspec": {
   "display_name": "Python 3.7.4 64-bit",
   "language": "python",
   "name": "python3"
  },
  "language_info": {
   "codemirror_mode": {
    "name": "ipython",
    "version": 3
   },
   "file_extension": ".py",
   "mimetype": "text/x-python",
   "name": "python",
   "nbconvert_exporter": "python",
   "pygments_lexer": "ipython3",
   "version": "3.7.4"
  },
  "orig_nbformat": 4
 },
 "nbformat": 4,
 "nbformat_minor": 2
}
